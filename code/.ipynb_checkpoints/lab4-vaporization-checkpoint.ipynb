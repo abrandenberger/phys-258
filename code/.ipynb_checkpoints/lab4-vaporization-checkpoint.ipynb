{
 "cells": [
  {
   "cell_type": "code",
   "execution_count": 1,
   "metadata": {},
   "outputs": [],
   "source": [
    "import numpy as np\n",
    "import matplotlib.pyplot as plt\n",
    "import pandas as pd\n",
    "from scipy.optimize import curve_fit\n",
    "from scipy.constants import R\n",
    "from matplotlib import gridspec"
   ]
  },
  {
   "cell_type": "code",
   "execution_count": 2,
   "metadata": {
    "scrolled": false
   },
   "outputs": [
    {
     "data": {
      "text/html": [
       "<div>\n",
       "<style scoped>\n",
       "    .dataframe tbody tr th:only-of-type {\n",
       "        vertical-align: middle;\n",
       "    }\n",
       "\n",
       "    .dataframe tbody tr th {\n",
       "        vertical-align: top;\n",
       "    }\n",
       "\n",
       "    .dataframe thead th {\n",
       "        text-align: right;\n",
       "    }\n",
       "</style>\n",
       "<table border=\"1\" class=\"dataframe\">\n",
       "  <thead>\n",
       "    <tr style=\"text-align: right;\">\n",
       "      <th></th>\n",
       "      <th>Set</th>\n",
       "      <th>Set.1</th>\n",
       "      <th>Set.2</th>\n",
       "      <th>Set.3</th>\n",
       "      <th>Set.4</th>\n",
       "      <th>Set.5</th>\n",
       "      <th>Set.6</th>\n",
       "      <th>Run #1</th>\n",
       "      <th>Run #1.1</th>\n",
       "      <th>Run #1.2</th>\n",
       "      <th>Run #1.3</th>\n",
       "    </tr>\n",
       "  </thead>\n",
       "  <tbody>\n",
       "    <tr>\n",
       "      <th>0</th>\n",
       "      <td>Absolute Pressure (cmHg)</td>\n",
       "      <td>Ideal LogP (cmHg)</td>\n",
       "      <td>Ideal Temperature (K)</td>\n",
       "      <td>Left (cm)</td>\n",
       "      <td>Right (cm)</td>\n",
       "      <td>Δh (cm)</td>\n",
       "      <td>Ln(P) (cmHg)</td>\n",
       "      <td>Time (s)</td>\n",
       "      <td>Voltage (V)</td>\n",
       "      <td>Temperature (K)</td>\n",
       "      <td>1/T (K^-1)</td>\n",
       "    </tr>\n",
       "    <tr>\n",
       "      <th>1</th>\n",
       "      <td>4.71</td>\n",
       "      <td>0.458</td>\n",
       "      <td>273</td>\n",
       "      <td>78.65</td>\n",
       "      <td>7.90</td>\n",
       "      <td>70.75</td>\n",
       "      <td>1.55</td>\n",
       "      <td>877.450</td>\n",
       "      <td>0.311</td>\n",
       "      <td>310.93</td>\n",
       "      <td>0.00</td>\n",
       "    </tr>\n",
       "    <tr>\n",
       "      <th>2</th>\n",
       "      <td>11.66</td>\n",
       "      <td>76.000</td>\n",
       "      <td>373</td>\n",
       "      <td>75.40</td>\n",
       "      <td>11.60</td>\n",
       "      <td>63.80</td>\n",
       "      <td>2.46</td>\n",
       "      <td>2263.850</td>\n",
       "      <td>0.329</td>\n",
       "      <td>328.78</td>\n",
       "      <td>0.00</td>\n",
       "    </tr>\n",
       "    <tr>\n",
       "      <th>3</th>\n",
       "      <td>18.86</td>\n",
       "      <td>NaN</td>\n",
       "      <td>NaN</td>\n",
       "      <td>72.00</td>\n",
       "      <td>15.40</td>\n",
       "      <td>56.60</td>\n",
       "      <td>2.94</td>\n",
       "      <td>2956.450</td>\n",
       "      <td>0.339</td>\n",
       "      <td>339.46</td>\n",
       "      <td>0.00</td>\n",
       "    </tr>\n",
       "    <tr>\n",
       "      <th>4</th>\n",
       "      <td>36.01</td>\n",
       "      <td>NaN</td>\n",
       "      <td>NaN</td>\n",
       "      <td>64.20</td>\n",
       "      <td>24.75</td>\n",
       "      <td>39.45</td>\n",
       "      <td>3.58</td>\n",
       "      <td>4091.400</td>\n",
       "      <td>0.354</td>\n",
       "      <td>354.43</td>\n",
       "      <td>0.00</td>\n",
       "    </tr>\n",
       "  </tbody>\n",
       "</table>\n",
       "</div>"
      ],
      "text/plain": [
       "                        Set              Set.1                  Set.2  \\\n",
       "0  Absolute Pressure (cmHg)  Ideal LogP (cmHg)  Ideal Temperature (K)   \n",
       "1                      4.71              0.458                    273   \n",
       "2                     11.66             76.000                    373   \n",
       "3                     18.86                NaN                    NaN   \n",
       "4                     36.01                NaN                    NaN   \n",
       "\n",
       "       Set.3       Set.4    Set.5         Set.6    Run #1     Run #1.1  \\\n",
       "0  Left (cm)  Right (cm)  Δh (cm)  Ln(P) (cmHg)  Time (s)  Voltage (V)   \n",
       "1      78.65        7.90    70.75          1.55   877.450        0.311   \n",
       "2      75.40       11.60    63.80          2.46  2263.850        0.329   \n",
       "3      72.00       15.40    56.60          2.94  2956.450        0.339   \n",
       "4      64.20       24.75    39.45          3.58  4091.400        0.354   \n",
       "\n",
       "          Run #1.2    Run #1.3  \n",
       "0  Temperature (K)  1/T (K^-1)  \n",
       "1           310.93        0.00  \n",
       "2           328.78        0.00  \n",
       "3           339.46        0.00  \n",
       "4           354.43        0.00  "
      ]
     },
     "execution_count": 2,
     "metadata": {},
     "output_type": "execute_result"
    }
   ],
   "source": [
    "raw = pd.read_csv('../data/lab4_PHYS258.csv')\n",
    "raw.head()"
   ]
  },
  {
   "cell_type": "code",
   "execution_count": 3,
   "metadata": {},
   "outputs": [],
   "source": [
    "def to_float(array):\n",
    "    return [float(val) for val in array]"
   ]
  },
  {
   "cell_type": "code",
   "execution_count": 4,
   "metadata": {},
   "outputs": [],
   "source": [
    "raw = raw.iloc[1:]\n",
    "lnp = raw[\"Set.6\"].values\n",
    "temps = raw[\"Run #1.2\"].values\n",
    "lnp, temps = np.array(to_float(lnp)), np.array(to_float(temps))\n",
    "pressure = np.e**lnp\n",
    "temps_inv = np.array([1/temp for temp in temps])"
   ]
  },
  {
   "cell_type": "code",
   "execution_count": 5,
   "metadata": {},
   "outputs": [],
   "source": [
    "def plot_fit_residuals(xlabel, ylabel, x_val, y_vals, fit_funcs = None, labels = None, sharex = True, \n",
    "                       errors = None, title=None, figsize=(6,6)):\n",
    "    ''' IMPORTANT !!! If one function only must still be [y_vals_array]\n",
    "    y_vals = [function1, function 2]\n",
    "    fit_funcs = [fitted f1, fitted f2]\n",
    "    errors = [errors f1, f2]\n",
    "    '''\n",
    "    \n",
    "    if fit_funcs != None:\n",
    "        fig, (a0, a1) = plt.subplots(nrows=2, ncols=1, gridspec_kw = {'height_ratios':[4, 1]}, sharex=sharex, \n",
    "                                     figsize=figsize)        \n",
    "        for i in range(len(y_vals)):\n",
    "            if labels!=None:\n",
    "                a0.errorbar(x_val, y_vals[i], yerr = errors[i], marker='.', linestyle='None', capsize=3, label=labels[i])\n",
    "            else: \n",
    "                a0.errorbar(x_val, y_vals[i], yerr = errors[i], marker='.', linestyle='None', capsize=3)\n",
    "            add_length = .03*np.abs(max(x_val) - min(x_val))\n",
    "            fit_from = min(x_val) - add_length\n",
    "            fit_to = max(x_val) + add_length\n",
    "            fit_x = np.linspace(fit_from, fit_to)\n",
    "            a0.plot(fit_x, fit_funcs[i](fit_x), '-')\n",
    "#             a0.plot(x_val, fit_funcs[i](x_val), '-')\n",
    "            residuals = y_vals[i] - fit_funcs[i](x_val)\n",
    "            a1.errorbar(x_val, residuals ,yerr = errors[i] ,marker='.', linestyle='None', capsize=3)\n",
    "        if title!=None:\n",
    "            a0.set_title(title)\n",
    "\n",
    "        plt.xlabel(xlabel)\n",
    "        a0.set_ylabel(ylabel)\n",
    "        a1.axhline(y=0)\n",
    "        if labels!=None:\n",
    "            a0.legend()\n",
    "            \n",
    "        fig.tight_layout()\n",
    "    # fig.set_size_inches(w=5,h=6)"
   ]
  },
  {
   "cell_type": "code",
   "execution_count": 6,
   "metadata": {},
   "outputs": [],
   "source": [
    "fit = np.polyfit(temps_inv,lnp,1)\n",
    "fit_fn = np.poly1d(fit)\n",
    "\n",
    "p_error = 0.1  # uncertainty on cmHg measure: 1 mm \n",
    "lnp_errors = 1/(pressure) * p_error "
   ]
  },
  {
   "cell_type": "code",
   "execution_count": 7,
   "metadata": {},
   "outputs": [
    {
     "data": {
      "image/png": "[encoded data removed]",
      "text/plain": [
       "<matplotlib.figure.Figure at 0x271ab0b4048>"
      ]
     },
     "metadata": {},
     "output_type": "display_data"
    }
   ],
   "source": [
    "plot_fit_residuals(xlabel='$1/T$ [1/K]', ylabel='$LnP$ [cmHg]', x_val=temps_inv, y_vals=[lnp], \n",
    "                   fit_funcs=[fit_fn], errors=[lnp_errors]) "
   ]
  },
  {
   "cell_type": "code",
   "execution_count": 8,
   "metadata": {
    "scrolled": true
   },
   "outputs": [],
   "source": [
    "# fig, (a0, a1) = plt.subplots(nrows=2, ncols=1, gridspec_kw = {'height_ratios':[4, 1]}, sharex=True, figsize=(6, 6))\n",
    "\n",
    "# a0.errorbar(temps_inv*10**3, lnp, yerr = 0.05, fmt='b.', capsize=3, label='test')\n",
    "# a0.plot(temps_inv*10**3, fit_fn(temps_inv), 'b-')\n",
    "\n",
    "# plt.xlabel('$1/T$ [1/K]' )\n",
    "# a0.set_ylabel('$LnP$ [cmHg]')\n",
    "# a0.legend()\n",
    "\n",
    "# a1.errorbar(temps_inv*10**3,residuals ,yerr = 0.05,fmt='b.', capsize=3, ecolor='b')\n",
    "# a1.axhline(y=0)\n",
    "\n",
    "# fig.tight_layout()\n",
    "# fig.set_size_inches(w=5,h=6)"
   ]
  },
  {
   "cell_type": "code",
   "execution_count": 13,
   "metadata": {},
   "outputs": [
    {
     "name": "stdout",
     "output_type": "stream",
     "text": [
      "[2.75438705e-05 3.97101256e-02]\n"
     ]
    }
   ],
   "source": [
    "def expo(x, a, b):\n",
    "    return a * np.exp(b *x) \n",
    "popt, pcov = curve_fit(expo, temps, pressure, p0 = (1e-5, 1e-2))\n",
    "print(popt)\n",
    "\n",
    "def fit_exp(x):\n",
    "    return expo(x, *popt)"
   ]
  },
  {
   "cell_type": "code",
   "execution_count": 11,
   "metadata": {},
   "outputs": [
    {
     "data": {
      "image/png": "[encoded data removed]",
      "text/plain": [
       "<matplotlib.figure.Figure at 0x271ab438668>"
      ]
     },
     "metadata": {},
     "output_type": "display_data"
    }
   ],
   "source": [
    "plot_fit_residuals(xlabel='$T$ [K]', ylabel='$P$ [cmHg]', x_val=temps, y_vals=[pressure], fit_funcs=[fit_exp], \n",
    "                   errors=[p_error])"
   ]
  }
 ],
 "metadata": {
  "kernelspec": {
   "display_name": "Python 3",
   "language": "python",
   "name": "python3"
  },
  "language_info": {
   "codemirror_mode": {
    "name": "ipython",
    "version": 3
   },
   "file_extension": ".py",
   "mimetype": "text/x-python",
   "name": "python",
   "nbconvert_exporter": "python",
   "pygments_lexer": "ipython3",
   "version": "3.6.5"
  }
 },
 "nbformat": 4,
 "nbformat_minor": 2
}
